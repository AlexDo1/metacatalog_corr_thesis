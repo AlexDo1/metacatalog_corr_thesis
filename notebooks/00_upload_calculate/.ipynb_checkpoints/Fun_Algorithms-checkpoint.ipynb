{
 "cells": [
  {
   "cell_type": "code",
   "execution_count": null,
   "id": "a9f591a0",
   "metadata": {},
   "outputs": [],
   "source": [
    "import datetime\n",
    "import random\n",
    "\n",
    "def random_date_generator():\n",
    "    start_date = datetime.date(2020, 1, 1)\n",
    "    end_date = datetime.date(2020, 12, 1)\n",
    "    \n",
    "    time_between_dates = end_date - start_date\n",
    "    days_between_dates = time_between_dates.days\n",
    "    random_number_of_days = random.randrange(days_between_dates)\n",
    "    random_date = start_date + datetime.timedelta(days=random_number_of_days)\n",
    "    \n",
    "    return random_date\n"
   ]
  },
  {
   "cell_type": "code",
   "execution_count": null,
   "id": "0c7fac48",
   "metadata": {},
   "outputs": [],
   "source": [
    "import numpy as np\n",
    "\n",
    "def birthday_paradox(people=23, n=1000):\n",
    "    birthdays = []\n",
    "    duplicate_birthdays = []\n",
    "    \n",
    "    for i in range(0, n):\n",
    "        for i in range(0, people):\n",
    "            birthdays.append(random_date_generator())\n",
    "                \n",
    "        if len(birthdays) != len(set(birthdays)):\n",
    "            duplicate_birthday = 1\n",
    "        else:\n",
    "            duplicate_birthday = 0\n",
    "                \n",
    "        duplicate_birthdays.append(duplicate_birthday)\n",
    "        \n",
    "        birthdays = []\n",
    "                \n",
    "    return np.mean(duplicate_birthdays)"
   ]
  },
  {
   "cell_type": "code",
   "execution_count": null,
   "id": "aa61dc73",
   "metadata": {},
   "outputs": [],
   "source": [
    "birthday_paradox(people=50, n=10000)"
   ]
  }
 ],
 "metadata": {
  "kernelspec": {
   "display_name": "Python 3",
   "language": "python",
   "name": "python3"
  },
  "language_info": {
   "codemirror_mode": {
    "name": "ipython",
    "version": 3
   },
   "file_extension": ".py",
   "mimetype": "text/x-python",
   "name": "python",
   "nbconvert_exporter": "python",
   "pygments_lexer": "ipython3",
   "version": "3.9.6"
  }
 },
 "nbformat": 4,
 "nbformat_minor": 5
}
